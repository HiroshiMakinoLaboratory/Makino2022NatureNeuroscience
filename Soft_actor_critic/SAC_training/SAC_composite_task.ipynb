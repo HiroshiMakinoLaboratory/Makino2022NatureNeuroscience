{
 "cells": [
  {
   "cell_type": "markdown",
   "metadata": {},
   "source": [
    "## Composite task.\n",
    "### SAC code is obtained from https://spinningup.openai.com/en/latest/.\n",
    "\n",
    "1. Obtain relevant files from https://github.com/HiroshiMakinoLaboratory/Makino2022NatureNeuroscience/tree/main/Soft_actor_critic.\n",
    "2. Replace the initialization file in ~/Spinning-up/spinningup/spinup/.\n",
    "3. Add the 'sac_composite_task' folder in ~/Spinning-up/spinningup/spinup/algos/pytorch/.\n",
    "4. Add learned models for task1 and task2 in 'sac_composite_task.py' at # Load pre-trained Q-networks and replace with those in ac.\n",
    "\n",
    "For pretraining early: change SAC hyperparameter 'epochs' to 20."
   ]
  },
  {
   "cell_type": "code",
   "execution_count": null,
   "metadata": {},
   "outputs": [],
   "source": [
    "# Seed number.\n",
    "seed_num = 0\n",
    "\n",
    "agent = 'Seed' + str(seed_num)\n",
    "task = 'object_manipulation_task_composite_task-v0'\n",
    "task_type = 'composite_task'\n",
    "\n",
    "# Import libraries.\n",
    "import gym\n",
    "import numpy as np\n",
    "import torch\n",
    "\n",
    "# Import algorithm.\n",
    "from spinup import sac_pytorch_composite_task as sac_composite_task\n",
    "\n",
    "# Import custom environment.\n",
    "import sys\n",
    "sys.path.append('/home/user/Desktop/Makino2022NatureNeuroscience/Soft_actor_critic/gym-object_manipulation_task/')\n",
    "import gym_object_manipulation_task\n",
    "\n",
    "# Make an environment.\n",
    "env_fn = lambda : gym.make(task)\n",
    "\n",
    "# Keyword arguments.\n",
    "ac_kwargs = dict(hidden_sizes=[256,256,256], activation=torch.nn.ReLU)\n",
    "logger_kwargs = dict(output_dir='/home/user/Desktop/Makino2022NatureNeuroscience/Soft_actor_critic/Data/' + agent + '_' + task_type, exp_name=task)\n",
    "\n",
    "# Run SAC with hyperparameters changed from the default values.\n",
    "sac_composite_task(env_fn=env_fn, ac_kwargs=ac_kwargs, seed=seed_num, steps_per_epoch=300, epochs=200, gamma=0.95, lr=0.0001, alpha=0.005, batch_size=1, start_steps=0, update_after=100, max_ep_len=300, logger_kwargs=logger_kwargs)"
   ]
  }
 ],
 "metadata": {
  "kernelspec": {
   "display_name": "Python 3",
   "language": "python",
   "name": "python3"
  },
  "language_info": {
   "codemirror_mode": {
    "name": "ipython",
    "version": 3
   },
   "file_extension": ".py",
   "mimetype": "text/x-python",
   "name": "python",
   "nbconvert_exporter": "python",
   "pygments_lexer": "ipython3",
   "version": "3.6.10"
  }
 },
 "nbformat": 4,
 "nbformat_minor": 4
}
